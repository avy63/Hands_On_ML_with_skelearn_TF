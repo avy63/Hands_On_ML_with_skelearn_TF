{
 "metadata": {
  "language_info": {
   "codemirror_mode": {
    "name": "ipython",
    "version": 3
   },
   "file_extension": ".py",
   "mimetype": "text/x-python",
   "name": "python",
   "nbconvert_exporter": "python",
   "pygments_lexer": "ipython3",
   "version": "3.8.5-final"
  },
  "orig_nbformat": 2,
  "kernelspec": {
   "name": "python3",
   "display_name": "Python 3.8.5 64-bit",
   "metadata": {
    "interpreter": {
     "hash": "53a46aae585d68686fa2fa489162a0f1e3c8aefe81f71b468e4a67d5d32c2ebb"
    }
   }
  }
 },
 "nbformat": 4,
 "nbformat_minor": 2,
 "cells": [
  {
   "cell_type": "code",
   "execution_count": 1,
   "metadata": {},
   "outputs": [],
   "source": [
    "from sklearn.datasets import load_digits"
   ]
  },
  {
   "cell_type": "code",
   "execution_count": 2,
   "metadata": {},
   "outputs": [],
   "source": [
    "X_digits,y_digits=load_digits(return_X_y=True)"
   ]
  },
  {
   "cell_type": "code",
   "execution_count": 3,
   "metadata": {},
   "outputs": [],
   "source": [
    "from sklearn.model_selection import train_test_split\n",
    "X_train,X_test,y_train,y_test=train_test_split(X_digits,y_digits)"
   ]
  },
  {
   "cell_type": "code",
   "execution_count": 4,
   "metadata": {},
   "outputs": [
    {
     "output_type": "stream",
     "name": "stdout",
     "text": [
      "0.9644444444444444\n"
     ]
    }
   ],
   "source": [
    "from sklearn.linear_model import LogisticRegression\n",
    "log_reg=LogisticRegression()\n",
    "log_reg.fit(X_train,y_train)\n",
    "print(log_reg.score(X_test,y_test))"
   ]
  },
  {
   "cell_type": "code",
   "execution_count": 5,
   "metadata": {},
   "outputs": [
    {
     "output_type": "execute_result",
     "data": {
      "text/plain": [
       "Pipeline(steps=[('kmeans', KMeans(n_clusters=50)),\n",
       "                ('log_reg', LogisticRegression())])"
      ]
     },
     "metadata": {},
     "execution_count": 5
    }
   ],
   "source": [
    "from sklearn.pipeline import Pipeline\n",
    "from sklearn.cluster import KMeans\n",
    "pipeline=Pipeline([\n",
    "    (\"kmeans\",KMeans(n_clusters=50)),\n",
    "    (\"log_reg\",LogisticRegression()),\n",
    "])\n",
    "pipeline.fit(X_train,y_train)"
   ]
  },
  {
   "cell_type": "code",
   "execution_count": 6,
   "metadata": {},
   "outputs": [
    {
     "output_type": "stream",
     "name": "stdout",
     "text": [
      "0.9666666666666667\n"
     ]
    }
   ],
   "source": [
    "print(pipeline.score(X_test,y_test))"
   ]
  },
  {
   "cell_type": "code",
   "execution_count": 9,
   "metadata": {
    "tags": [
     "outputPrepend"
    ]
   },
   "outputs": [
    {
     "output_type": "stream",
     "name": "stdout",
     "text": [
      "............ kmeans__n_clusters=53, total=   0.9s\n",
      "[CV] kmeans__n_clusters=53 ...........................................\n",
      "[CV] ............................ kmeans__n_clusters=53, total=   1.0s\n",
      "[CV] kmeans__n_clusters=53 ...........................................\n",
      "[CV] ............................ kmeans__n_clusters=53, total=   1.0s\n",
      "[CV] kmeans__n_clusters=54 ...........................................\n",
      "[CV] ............................ kmeans__n_clusters=54, total=   1.0s\n",
      "[CV] kmeans__n_clusters=54 ...........................................\n",
      "[CV] ............................ kmeans__n_clusters=54, total=   1.0s\n",
      "[CV] kmeans__n_clusters=54 ...........................................\n",
      "[CV] ............................ kmeans__n_clusters=54, total=   1.0s\n",
      "[CV] kmeans__n_clusters=55 ...........................................\n",
      "[CV] ............................ kmeans__n_clusters=55, total=   1.0s\n",
      "[CV] kmeans__n_clusters=55 ...........................................\n",
      "[CV] ............................ kmeans__n_clusters=55, total=   1.2s\n",
      "[CV] kmeans__n_clusters=55 ...........................................\n",
      "[CV] ............................ kmeans__n_clusters=55, total=   1.1s\n",
      "[CV] kmeans__n_clusters=56 ...........................................\n",
      "[CV] ............................ kmeans__n_clusters=56, total=   0.9s\n",
      "[CV] kmeans__n_clusters=56 ...........................................\n",
      "[CV] ............................ kmeans__n_clusters=56, total=   0.9s\n",
      "[CV] kmeans__n_clusters=56 ...........................................\n",
      "[CV] ............................ kmeans__n_clusters=56, total=   0.9s\n",
      "[CV] kmeans__n_clusters=57 ...........................................\n",
      "[CV] ............................ kmeans__n_clusters=57, total=   1.0s\n",
      "[CV] kmeans__n_clusters=57 ...........................................\n",
      "[CV] ............................ kmeans__n_clusters=57, total=   0.8s\n",
      "[CV] kmeans__n_clusters=57 ...........................................\n",
      "[CV] ............................ kmeans__n_clusters=57, total=   0.8s\n",
      "[CV] kmeans__n_clusters=58 ...........................................\n",
      "[CV] ............................ kmeans__n_clusters=58, total=   0.9s\n",
      "[CV] kmeans__n_clusters=58 ...........................................\n",
      "[CV] ............................ kmeans__n_clusters=58, total=   0.9s\n",
      "[CV] kmeans__n_clusters=58 ...........................................\n",
      "[CV] ............................ kmeans__n_clusters=58, total=   0.9s\n",
      "[CV] kmeans__n_clusters=59 ...........................................\n",
      "[CV] ............................ kmeans__n_clusters=59, total=   0.9s\n",
      "[CV] kmeans__n_clusters=59 ...........................................\n",
      "[CV] ............................ kmeans__n_clusters=59, total=   0.9s\n",
      "[CV] kmeans__n_clusters=59 ...........................................\n",
      "[CV] ............................ kmeans__n_clusters=59, total=   0.9s\n",
      "[CV] kmeans__n_clusters=60 ...........................................\n",
      "[CV] ............................ kmeans__n_clusters=60, total=   0.9s\n",
      "[CV] kmeans__n_clusters=60 ...........................................\n",
      "[CV] ............................ kmeans__n_clusters=60, total=   0.9s\n",
      "[CV] kmeans__n_clusters=60 ...........................................\n",
      "[CV] ............................ kmeans__n_clusters=60, total=   0.9s\n",
      "[CV] kmeans__n_clusters=61 ...........................................\n",
      "[CV] ............................ kmeans__n_clusters=61, total=   0.9s\n",
      "[CV] kmeans__n_clusters=61 ...........................................\n",
      "[CV] ............................ kmeans__n_clusters=61, total=   0.9s\n",
      "[CV] kmeans__n_clusters=61 ...........................................\n",
      "[CV] ............................ kmeans__n_clusters=61, total=   0.9s\n",
      "[CV] kmeans__n_clusters=62 ...........................................\n",
      "[CV] ............................ kmeans__n_clusters=62, total=   0.9s\n",
      "[CV] kmeans__n_clusters=62 ...........................................\n",
      "[CV] ............................ kmeans__n_clusters=62, total=   1.2s\n",
      "[CV] kmeans__n_clusters=62 ...........................................\n",
      "[CV] ............................ kmeans__n_clusters=62, total=   1.4s\n",
      "[CV] kmeans__n_clusters=63 ...........................................\n",
      "[CV] ............................ kmeans__n_clusters=63, total=   1.2s\n",
      "[CV] kmeans__n_clusters=63 ...........................................\n",
      "[CV] ............................ kmeans__n_clusters=63, total=   1.0s\n",
      "[CV] kmeans__n_clusters=63 ...........................................\n",
      "[CV] ............................ kmeans__n_clusters=63, total=   1.1s\n",
      "[CV] kmeans__n_clusters=64 ...........................................\n",
      "[CV] ............................ kmeans__n_clusters=64, total=   1.2s\n",
      "[CV] kmeans__n_clusters=64 ...........................................\n",
      "[CV] ............................ kmeans__n_clusters=64, total=   1.2s\n",
      "[CV] kmeans__n_clusters=64 ...........................................\n",
      "[CV] ............................ kmeans__n_clusters=64, total=   1.0s\n",
      "[CV] kmeans__n_clusters=65 ...........................................\n",
      "[CV] ............................ kmeans__n_clusters=65, total=   1.1s\n",
      "[CV] kmeans__n_clusters=65 ...........................................\n",
      "[CV] ............................ kmeans__n_clusters=65, total=   1.1s\n",
      "[CV] kmeans__n_clusters=65 ...........................................\n",
      "[CV] ............................ kmeans__n_clusters=65, total=   1.1s\n",
      "[CV] kmeans__n_clusters=66 ...........................................\n",
      "[CV] ............................ kmeans__n_clusters=66, total=   1.0s\n",
      "[CV] kmeans__n_clusters=66 ...........................................\n",
      "[CV] ............................ kmeans__n_clusters=66, total=   1.1s\n",
      "[CV] kmeans__n_clusters=66 ...........................................\n",
      "[CV] ............................ kmeans__n_clusters=66, total=   1.1s\n",
      "[CV] kmeans__n_clusters=67 ...........................................\n",
      "[CV] ............................ kmeans__n_clusters=67, total=   1.1s\n",
      "[CV] kmeans__n_clusters=67 ...........................................\n",
      "[CV] ............................ kmeans__n_clusters=67, total=   1.2s\n",
      "[CV] kmeans__n_clusters=67 ...........................................\n",
      "[CV] ............................ kmeans__n_clusters=67, total=   1.0s\n",
      "[CV] kmeans__n_clusters=68 ...........................................\n",
      "[CV] ............................ kmeans__n_clusters=68, total=   1.1s\n",
      "[CV] kmeans__n_clusters=68 ...........................................\n",
      "[CV] ............................ kmeans__n_clusters=68, total=   1.1s\n",
      "[CV] kmeans__n_clusters=68 ...........................................\n",
      "[CV] ............................ kmeans__n_clusters=68, total=   1.3s\n",
      "[CV] kmeans__n_clusters=69 ...........................................\n",
      "[CV] ............................ kmeans__n_clusters=69, total=   1.4s\n",
      "[CV] kmeans__n_clusters=69 ...........................................\n",
      "[CV] ............................ kmeans__n_clusters=69, total=   1.5s\n",
      "[CV] kmeans__n_clusters=69 ...........................................\n",
      "[CV] ............................ kmeans__n_clusters=69, total=   1.9s\n",
      "[CV] kmeans__n_clusters=70 ...........................................\n",
      "[CV] ............................ kmeans__n_clusters=70, total=   1.3s\n",
      "[CV] kmeans__n_clusters=70 ...........................................\n",
      "[CV] ............................ kmeans__n_clusters=70, total=   1.4s\n",
      "[CV] kmeans__n_clusters=70 ...........................................\n",
      "[CV] ............................ kmeans__n_clusters=70, total=   1.5s\n",
      "[CV] kmeans__n_clusters=71 ...........................................\n",
      "[CV] ............................ kmeans__n_clusters=71, total=   1.5s\n",
      "[CV] kmeans__n_clusters=71 ...........................................\n",
      "[CV] ............................ kmeans__n_clusters=71, total=   1.7s\n",
      "[CV] kmeans__n_clusters=71 ...........................................\n",
      "[CV] ............................ kmeans__n_clusters=71, total=   1.7s\n",
      "[CV] kmeans__n_clusters=72 ...........................................\n",
      "[CV] ............................ kmeans__n_clusters=72, total=   2.7s\n",
      "[CV] kmeans__n_clusters=72 ...........................................\n",
      "[CV] ............................ kmeans__n_clusters=72, total=   1.7s\n",
      "[CV] kmeans__n_clusters=72 ...........................................\n",
      "[CV] ............................ kmeans__n_clusters=72, total=   1.5s\n",
      "[CV] kmeans__n_clusters=73 ...........................................\n",
      "[CV] ............................ kmeans__n_clusters=73, total=   1.2s\n",
      "[CV] kmeans__n_clusters=73 ...........................................\n",
      "[CV] ............................ kmeans__n_clusters=73, total=   1.0s\n",
      "[CV] kmeans__n_clusters=73 ...........................................\n",
      "[CV] ............................ kmeans__n_clusters=73, total=   0.9s\n",
      "[CV] kmeans__n_clusters=74 ...........................................\n",
      "[CV] ............................ kmeans__n_clusters=74, total=   1.0s\n",
      "[CV] kmeans__n_clusters=74 ...........................................\n",
      "[CV] ............................ kmeans__n_clusters=74, total=   1.0s\n",
      "[CV] kmeans__n_clusters=74 ...........................................\n",
      "[CV] ............................ kmeans__n_clusters=74, total=   1.1s\n",
      "[CV] kmeans__n_clusters=75 ...........................................\n",
      "[CV] ............................ kmeans__n_clusters=75, total=   1.4s\n",
      "[CV] kmeans__n_clusters=75 ...........................................\n",
      "[CV] ............................ kmeans__n_clusters=75, total=   1.5s\n",
      "[CV] kmeans__n_clusters=75 ...........................................\n",
      "[CV] ............................ kmeans__n_clusters=75, total=   1.4s\n",
      "[CV] kmeans__n_clusters=76 ...........................................\n",
      "[CV] ............................ kmeans__n_clusters=76, total=   1.3s\n",
      "[CV] kmeans__n_clusters=76 ...........................................\n",
      "[CV] ............................ kmeans__n_clusters=76, total=   1.5s\n",
      "[CV] kmeans__n_clusters=76 ...........................................\n",
      "[CV] ............................ kmeans__n_clusters=76, total=   1.5s\n",
      "[CV] kmeans__n_clusters=77 ...........................................\n",
      "[CV] ............................ kmeans__n_clusters=77, total=   1.5s\n",
      "[CV] kmeans__n_clusters=77 ...........................................\n",
      "[CV] ............................ kmeans__n_clusters=77, total=   1.1s\n",
      "[CV] kmeans__n_clusters=77 ...........................................\n",
      "[CV] ............................ kmeans__n_clusters=77, total=   1.1s\n",
      "[CV] kmeans__n_clusters=78 ...........................................\n",
      "[CV] ............................ kmeans__n_clusters=78, total=   1.0s\n",
      "[CV] kmeans__n_clusters=78 ...........................................\n",
      "[CV] ............................ kmeans__n_clusters=78, total=   1.0s\n",
      "[CV] kmeans__n_clusters=78 ...........................................\n",
      "[CV] ............................ kmeans__n_clusters=78, total=   1.0s\n",
      "[CV] kmeans__n_clusters=79 ...........................................\n",
      "[CV] ............................ kmeans__n_clusters=79, total=   1.0s\n",
      "[CV] kmeans__n_clusters=79 ...........................................\n",
      "[CV] ............................ kmeans__n_clusters=79, total=   1.0s\n",
      "[CV] kmeans__n_clusters=79 ...........................................\n",
      "[CV] ............................ kmeans__n_clusters=79, total=   1.0s\n",
      "[CV] kmeans__n_clusters=80 ...........................................\n",
      "[CV] ............................ kmeans__n_clusters=80, total=   1.0s\n",
      "[CV] kmeans__n_clusters=80 ...........................................\n",
      "[CV] ............................ kmeans__n_clusters=80, total=   1.0s\n",
      "[CV] kmeans__n_clusters=80 ...........................................\n",
      "[CV] ............................ kmeans__n_clusters=80, total=   1.5s\n",
      "[CV] kmeans__n_clusters=81 ...........................................\n",
      "[CV] ............................ kmeans__n_clusters=81, total=   1.3s\n",
      "[CV] kmeans__n_clusters=81 ...........................................\n",
      "[CV] ............................ kmeans__n_clusters=81, total=   1.2s\n",
      "[CV] kmeans__n_clusters=81 ...........................................\n",
      "[CV] ............................ kmeans__n_clusters=81, total=   1.2s\n",
      "[CV] kmeans__n_clusters=82 ...........................................\n",
      "[CV] ............................ kmeans__n_clusters=82, total=   1.0s\n",
      "[CV] kmeans__n_clusters=82 ...........................................\n",
      "[CV] ............................ kmeans__n_clusters=82, total=   1.1s\n",
      "[CV] kmeans__n_clusters=82 ...........................................\n",
      "[CV] ............................ kmeans__n_clusters=82, total=   1.0s\n",
      "[CV] kmeans__n_clusters=83 ...........................................\n",
      "[CV] ............................ kmeans__n_clusters=83, total=   1.0s\n",
      "[CV] kmeans__n_clusters=83 ...........................................\n",
      "[CV] ............................ kmeans__n_clusters=83, total=   1.0s\n",
      "[CV] kmeans__n_clusters=83 ...........................................\n",
      "[CV] ............................ kmeans__n_clusters=83, total=   1.0s\n",
      "[CV] kmeans__n_clusters=84 ...........................................\n",
      "[CV] ............................ kmeans__n_clusters=84, total=   1.1s\n",
      "[CV] kmeans__n_clusters=84 ...........................................\n",
      "[CV] ............................ kmeans__n_clusters=84, total=   1.0s\n",
      "[CV] kmeans__n_clusters=84 ...........................................\n",
      "[CV] ............................ kmeans__n_clusters=84, total=   1.0s\n",
      "[CV] kmeans__n_clusters=85 ...........................................\n",
      "[CV] ............................ kmeans__n_clusters=85, total=   1.0s\n",
      "[CV] kmeans__n_clusters=85 ...........................................\n",
      "[CV] ............................ kmeans__n_clusters=85, total=   1.1s\n",
      "[CV] kmeans__n_clusters=85 ...........................................\n",
      "[CV] ............................ kmeans__n_clusters=85, total=   1.1s\n",
      "[CV] kmeans__n_clusters=86 ...........................................\n",
      "[CV] ............................ kmeans__n_clusters=86, total=   1.1s\n",
      "[CV] kmeans__n_clusters=86 ...........................................\n",
      "[CV] ............................ kmeans__n_clusters=86, total=   1.1s\n",
      "[CV] kmeans__n_clusters=86 ...........................................\n",
      "[CV] ............................ kmeans__n_clusters=86, total=   1.1s\n",
      "[CV] kmeans__n_clusters=87 ...........................................\n",
      "[CV] ............................ kmeans__n_clusters=87, total=   1.1s\n",
      "[CV] kmeans__n_clusters=87 ...........................................\n",
      "[CV] ............................ kmeans__n_clusters=87, total=   1.1s\n",
      "[CV] kmeans__n_clusters=87 ...........................................\n",
      "[CV] ............................ kmeans__n_clusters=87, total=   1.1s\n",
      "[CV] kmeans__n_clusters=88 ...........................................\n",
      "[CV] ............................ kmeans__n_clusters=88, total=   1.0s\n",
      "[CV] kmeans__n_clusters=88 ...........................................\n",
      "[CV] ............................ kmeans__n_clusters=88, total=   1.1s\n",
      "[CV] kmeans__n_clusters=88 ...........................................\n",
      "[CV] ............................ kmeans__n_clusters=88, total=   1.1s\n",
      "[CV] kmeans__n_clusters=89 ...........................................\n",
      "[CV] ............................ kmeans__n_clusters=89, total=   1.1s\n",
      "[CV] kmeans__n_clusters=89 ...........................................\n",
      "[CV] ............................ kmeans__n_clusters=89, total=   1.1s\n",
      "[CV] kmeans__n_clusters=89 ...........................................\n",
      "[CV] ............................ kmeans__n_clusters=89, total=   1.1s\n",
      "[CV] kmeans__n_clusters=90 ...........................................\n",
      "[CV] ............................ kmeans__n_clusters=90, total=   1.1s\n",
      "[CV] kmeans__n_clusters=90 ...........................................\n",
      "[CV] ............................ kmeans__n_clusters=90, total=   1.1s\n",
      "[CV] kmeans__n_clusters=90 ...........................................\n",
      "[CV] ............................ kmeans__n_clusters=90, total=   1.1s\n",
      "[CV] kmeans__n_clusters=91 ...........................................\n",
      "[CV] ............................ kmeans__n_clusters=91, total=   1.1s\n",
      "[CV] kmeans__n_clusters=91 ...........................................\n",
      "[CV] ............................ kmeans__n_clusters=91, total=   1.1s\n",
      "[CV] kmeans__n_clusters=91 ...........................................\n",
      "[CV] ............................ kmeans__n_clusters=91, total=   1.1s\n",
      "[CV] kmeans__n_clusters=92 ...........................................\n",
      "[CV] ............................ kmeans__n_clusters=92, total=   1.1s\n",
      "[CV] kmeans__n_clusters=92 ...........................................\n",
      "[CV] ............................ kmeans__n_clusters=92, total=   1.1s\n",
      "[CV] kmeans__n_clusters=92 ...........................................\n",
      "[CV] ............................ kmeans__n_clusters=92, total=   1.1s\n",
      "[CV] kmeans__n_clusters=93 ...........................................\n",
      "[CV] ............................ kmeans__n_clusters=93, total=   1.2s\n",
      "[CV] kmeans__n_clusters=93 ...........................................\n",
      "[CV] ............................ kmeans__n_clusters=93, total=   1.3s\n",
      "[CV] kmeans__n_clusters=93 ...........................................\n",
      "[CV] ............................ kmeans__n_clusters=93, total=   1.2s\n",
      "[CV] kmeans__n_clusters=94 ...........................................\n",
      "[CV] ............................ kmeans__n_clusters=94, total=   1.2s\n",
      "[CV] kmeans__n_clusters=94 ...........................................\n",
      "[CV] ............................ kmeans__n_clusters=94, total=   1.1s\n",
      "[CV] kmeans__n_clusters=94 ...........................................\n",
      "[CV] ............................ kmeans__n_clusters=94, total=   1.2s\n",
      "[CV] kmeans__n_clusters=95 ...........................................\n",
      "[CV] ............................ kmeans__n_clusters=95, total=   1.3s\n",
      "[CV] kmeans__n_clusters=95 ...........................................\n",
      "[CV] ............................ kmeans__n_clusters=95, total=   1.3s\n",
      "[CV] kmeans__n_clusters=95 ...........................................\n",
      "[CV] ............................ kmeans__n_clusters=95, total=   1.3s\n",
      "[CV] kmeans__n_clusters=96 ...........................................\n",
      "[CV] ............................ kmeans__n_clusters=96, total=   1.5s\n",
      "[CV] kmeans__n_clusters=96 ...........................................\n",
      "[CV] ............................ kmeans__n_clusters=96, total=   1.4s\n",
      "[CV] kmeans__n_clusters=96 ...........................................\n",
      "[CV] ............................ kmeans__n_clusters=96, total=   1.4s\n",
      "[CV] kmeans__n_clusters=97 ...........................................\n",
      "[CV] ............................ kmeans__n_clusters=97, total=   1.3s\n",
      "[CV] kmeans__n_clusters=97 ...........................................\n",
      "[CV] ............................ kmeans__n_clusters=97, total=   1.4s\n",
      "[CV] kmeans__n_clusters=97 ...........................................\n",
      "[CV] ............................ kmeans__n_clusters=97, total=   1.4s\n",
      "[CV] kmeans__n_clusters=98 ...........................................\n",
      "[CV] ............................ kmeans__n_clusters=98, total=   1.4s\n",
      "[CV] kmeans__n_clusters=98 ...........................................\n",
      "[CV] ............................ kmeans__n_clusters=98, total=   1.4s\n",
      "[CV] kmeans__n_clusters=98 ...........................................\n",
      "[CV] ............................ kmeans__n_clusters=98, total=   1.4s\n",
      "[CV] kmeans__n_clusters=99 ...........................................\n",
      "[CV] ............................ kmeans__n_clusters=99, total=   1.4s\n",
      "[CV] kmeans__n_clusters=99 ...........................................\n",
      "[CV] ............................ kmeans__n_clusters=99, total=   1.4s\n",
      "[CV] kmeans__n_clusters=99 ...........................................\n",
      "[CV] ............................ kmeans__n_clusters=99, total=   1.4s\n",
      "[Parallel(n_jobs=1)]: Done 294 out of 294 | elapsed:  4.4min finished\n"
     ]
    },
    {
     "output_type": "execute_result",
     "data": {
      "text/plain": [
       "GridSearchCV(cv=3,\n",
       "             estimator=Pipeline(steps=[('kmeans', KMeans(n_clusters=50)),\n",
       "                                       ('log_reg', LogisticRegression())]),\n",
       "             param_grid={'kmeans__n_clusters': range(2, 100)}, verbose=2)"
      ]
     },
     "metadata": {},
     "execution_count": 9
    }
   ],
   "source": [
    "from sklearn.model_selection import GridSearchCV\n",
    "param_grid=dict(kmeans__n_clusters=range(2,100))\n",
    "grid_clf=GridSearchCV(pipeline,param_grid,cv=3,verbose=2)\n",
    "grid_clf.fit(X_train,y_train)\n"
   ]
  },
  {
   "cell_type": "code",
   "execution_count": 10,
   "metadata": {},
   "outputs": [
    {
     "output_type": "stream",
     "name": "stdout",
     "text": [
      "{'kmeans__n_clusters': 87}\n0.9755555555555555\n"
     ]
    }
   ],
   "source": [
    "print(grid_clf.best_params_)\n",
    "print(grid_clf.score(X_test,y_test))"
   ]
  },
  {
   "cell_type": "code",
   "execution_count": 7,
   "metadata": {},
   "outputs": [
    {
     "output_type": "execute_result",
     "data": {
      "text/plain": [
       "0.84"
      ]
     },
     "metadata": {},
     "execution_count": 7
    }
   ],
   "source": [
    "# Using clustering for semisupervised learrning\n",
    "n_labeled=50\n",
    "log_reg=LogisticRegression()\n",
    "log_reg.fit(X_train[:n_labeled],y_train[:n_labeled])\n",
    "log_reg.score(X_test,y_test)"
   ]
  },
  {
   "cell_type": "code",
   "execution_count": null,
   "metadata": {},
   "outputs": [],
   "source": [
    "k=50\n",
    "kmeans=KMeans(n_clusters=50)\n"
   ]
  }
 ]
}